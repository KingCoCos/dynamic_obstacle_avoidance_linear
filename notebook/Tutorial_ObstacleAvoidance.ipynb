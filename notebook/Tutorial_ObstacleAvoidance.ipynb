{
 "cells": [
  {
   "cell_type": "markdown",
   "metadata": {},
   "source": [
    "# Tutorial for Dynamic Obstacle Avoidance\n",
    "This tutorial is based on following publications: \n",
    "> Huber, Lukas, Aude Billard, and Jean-Jacques E. Slotine. \"Avoidance of Convex and Concave Obstacles with Convergence ensured through Contraction.\" IEEE Robotics and Automation Letters (2019).\n",
    "\n",
    "> Khansari-Zadeh, Seyed Mohammad, and Aude Billard. \"A dynamical system approach to realtime obstacle avoidance.\" Autonomous Robots 32.4 (2012): 433-454.\n",
    "\n",
    "The initial dynamical system $\\vec f(\\xi)$ is modulated to get the final dynamics $\\dot \\xi$:\n",
    "\n",
    "$$\\dot \\xi = M(\\xi) \\vec f(\\xi)$$ \n",
    "\n",
    "\n",
    "with Modulation Matrix $M(\\xi) = E(\\xi)D(\\xi )E(\\xi)^{−1}$"
   ]
  },
  {
   "cell_type": "markdown",
   "metadata": {},
   "source": [
    "### Instructions - Notebook\n",
    "\n",
    "This tutorial is based on jupyter notebook with python code at the backend. The source code can be found under \n",
    "https://github.com/hubernikus/dynamic_obstacle_avoidance_python\n",
    "\n",
    "The notebook can be executed online with the link:\n",
    "https://mybinder.org/v2/gh/hubernikus/dynamic_obstacle_avoidance_python/master\n",
    "\n",
    "This notebook contains a mix of text and code. In order to execute the code, click on the containing field and press CTRL + RETURN. "
   ]
  },
  {
   "cell_type": "code",
   "execution_count": 1,
   "metadata": {},
   "outputs": [],
   "source": [
    "# General classes\n",
    "import numpy as np\n",
    "from numpy import pi\n",
    "import copy\n",
    "\n",
    "from ipywidgets import interact, interactive, fixed, interact_manual\n",
    "from ipywidgets import FloatSlider, IntSlider\n",
    "import ipywidgets as widgets\n",
    "\n",
    "# import warnings\n",
    "# warnings.filterwarnings('ignore')\n",
    "\n",
    "import sys, os\n",
    "sys.path.append(os.path.join(os.path.dirname(sys.path[0]),'src'))\n",
    "\n",
    "from dynamic_obstacle_avoidance.dynamical_system import *\n",
    "from dynamic_obstacle_avoidance.obstacle_avoidance.obstacle import Obstacle\n",
    "from dynamic_obstacle_avoidance.visualization.vector_field_visualization import Simulation_vectorFields\n",
    "from dynamic_obstacle_avoidance.visualization.animated_simulation import *\n",
    "from dynamic_obstacle_avoidance.visualization.animated_simulation_ipython import *\n",
    "from dynamic_obstacle_avoidance.visualization.widget_function_vectorfield import *"
   ]
  },
  {
   "cell_type": "markdown",
   "metadata": {},
   "source": [
    "## Obstacle Description\n",
    "The obstacle avoidance algorithm is able to avoida all convex and certain concave obstacles. \n",
    "Run the script bellow to change the properties of an ellipse and see how the initially linear DS."
   ]
  },
  {
   "cell_type": "code",
   "execution_count": 16,
   "metadata": {
    "scrolled": false
   },
   "outputs": [
    {
     "name": "stdout",
     "output_type": "stream",
     "text": [
      "Change parameters and press <<Run Interact>> to apply.\n"
     ]
    },
    {
     "data": {
      "application/vnd.jupyter.widget-view+json": {
       "model_id": "9eba8e5af55a40568e34686f28f546b2",
       "version_major": 2,
       "version_minor": 0
      },
      "text/plain": [
       "interactive(children=(FloatSlider(value=6.0, description='Position \\\\( x_1\\\\)', max=16.0, min=-16.0), FloatSli…"
      ]
     },
     "metadata": {},
     "output_type": "display_data"
    }
   ],
   "source": [
    "\n",
    "run_obstacle_description()\n"
   ]
  },
  {
   "cell_type": "markdown",
   "metadata": {},
   "source": [
    "## Reference Point\n",
    "The basis matrix $E(\\xi)=\\left[ {\\vec r }(\\xi) \\;\\; \\vec e_1(\\xi) \\;\\; .. \\;\\; \\vec{e}_{d-1}(\\xi) \\right]$ decomposes the initial dynamical system into tangent directions $\\vec e_i(\\xi) \\;\\; i=1..d-1$ and reference direction $\\vec r(\\xi)$.\n",
    "\n",
    "The diagonal eigenvalue matrix $ D(\\xi) =\n",
    "  \\textbf{diag} \\left( \\lambda_r(\\xi) , \\lambda_e(\\xi) , .. , \\lambda_{e}( \\xi) \\right) $ stretches the dynamical system along the tangent direction, and compresses along the reference direction.\n",
    "  \n",
    "This results in provable avoidance with convergence towards the attractor.\n",
    "\n",
    "*** Change the parameters of the reference point (direction & excentricity) and see how the modulated DS behaves. What can you observe? How is this dependent on the direction and position of the obstacle? ***"
   ]
  },
  {
   "cell_type": "code",
   "execution_count": 2,
   "metadata": {},
   "outputs": [
    {
     "data": {
      "application/vnd.jupyter.widget-view+json": {
       "model_id": "7e812a373e32424187bb87aff0ea92cb",
       "version_major": 2,
       "version_minor": 0
      },
      "text/plain": [
       "interactive(children=(FloatSlider(value=6.0, description='Position \\\\( x_1\\\\)', max=16.0, min=-16.0), FloatSli…"
      ]
     },
     "metadata": {},
     "output_type": "display_data"
    }
   ],
   "source": [
    "x_lim, y_lim = [-16, 16], [-2, 18]\n",
    "\n",
    "# Interactive Widgets\n",
    "x1_widget = FloatSlider(description='Position \\( x_1\\)', min=x_lim[0], max=x_lim[1], step=0.1, value=6)\n",
    "x2_widget = FloatSlider(description='Position \\( x_2\\)', min=y_lim[0], max=y_lim[1], step=0.1, value=8)\n",
    "angle_widget = FloatSlider(description='Orientation', min=-180, max=180, step=1, value=80)\n",
    "referencePoint_direction = FloatSlider(description='Direction', min=-180, max=180, step=1, value=0)\n",
    "referencePoint_excentricity = FloatSlider(description='Excentricity', min=0, max=0.999, step=0.01, value=0.5)\n",
    "\n",
    "# Main function\n",
    "interact_manual(widgetFunction_referencePoint, x1=x1_widget, x2=x2_widget,\n",
    "                th_r=angle_widget,\n",
    "                refPoint_dir=referencePoint_direction, refPoint_rat=referencePoint_excentricity,\n",
    "               x_low=fixed(x_lim[0]), x_high=fixed(x_lim[1]), \n",
    "                y_low=fixed(y_lim[0]), y_high=fixed(y_lim[1]));\n",
    "\n",
    "# Change parameters and press <<Run Interact>> to apply."
   ]
  },
  {
   "cell_type": "markdown",
   "metadata": {
    "scrolled": true
   },
   "source": [
    "\n",
    "## Intersecting Obstacles\n",
    "If you might have observed in the past interaction, the reference point decides the line where the DS is split and moves around the obstacle. This can now be extended to interscting obstacles, if they share a commond attractor they can \n",
    "\n",
    "1. Can you find one commond reference point of the obstacles, without having their body intersect (but only the safety maring)?\n",
    "2. For 2, 3 & 4 obstacles?\n",
    "3. What at happens if 3 or 4 obstacles build a chain, but do not have one comomnd reference point? Can you observe the local minma? What could be proposed to solve this problem?\n",
    "4. Are there solution with several reference point with 4 obstacles with full convergence?"
   ]
  },
  {
   "cell_type": "code",
   "execution_count": 3,
   "metadata": {
    "scrolled": false
   },
   "outputs": [
    {
     "name": "stdout",
     "output_type": "stream",
     "text": [
      "Change parameters and press <<Run Interact>> to apply.\n"
     ]
    },
    {
     "data": {
      "application/vnd.jupyter.widget-view+json": {
       "model_id": "c609bb0a7dfb48468038d82168b0104c",
       "version_major": 2,
       "version_minor": 0
      },
      "text/plain": [
       "interactive(children=(Dropdown(description='Obstacle Number:', options=(2, 3, 4), value=2), Output()), _dom_cl…"
      ]
     },
     "metadata": {},
     "output_type": "display_data"
    }
   ],
   "source": [
    "%matplotlib inline\n",
    "\n",
    "x_lim, y_lim = [-16, 16], [-2, 18]\n",
    "\n",
    "# Interactive Widgets\n",
    "center1_widget1 = FloatSlider(description='Position \\( x_1\\)', min=x_lim[0], max=x_lim[1], step=0.1, value=-14)\n",
    "center2_widget1 = FloatSlider(description='Position \\( x_2\\)', min=y_lim[0], max=y_lim[1], step=0.1, value=4)\n",
    "angle_widget1 = FloatSlider(description='Orientation', min=-180, max=180, step=1, value=45)\n",
    "\n",
    "center1_widget2 = FloatSlider(description='Position \\( x_1\\)', min=x_lim[0], max=x_lim[1], step=0.1, value=-3)\n",
    "center2_widget2 = FloatSlider(description='Position \\( x_2\\)', min=y_lim[0], max=y_lim[1], step=0.1, value=10)\n",
    "angle_widget2 = FloatSlider(description='Orientation', min=-180, max=180, step=1, value=0)\n",
    "\n",
    "center1_widget3 = FloatSlider(description='Position \\( x_1\\)', min=x_lim[0], max=x_lim[1], step=0.1, value=6)\n",
    "center2_widget3 = FloatSlider(description='Position \\( x_2\\)', min=y_lim[0], max=y_lim[1], step=0.1, value=4)\n",
    "angle_widget3 = FloatSlider(description='Orientation', min=-180, max=180, step=1, value=-80)\n",
    "\n",
    "center1_widget4 = FloatSlider(description='Position \\( x_1\\)', min=x_lim[0], max=x_lim[1], step=0.1, value=10)\n",
    "center2_widget4 = FloatSlider(description='Position \\( x_2\\)', min=y_lim[0], max=y_lim[1], step=0.1, value=14)\n",
    "angle_widget4 = FloatSlider(description='Orientation', min=-180, max=180, step=1, value=-110)\n",
    "\n",
    "\n",
    "def choose_obstacles(n_obstacles):\n",
    "    # Main function\n",
    "    if n_obstacles ==2:\n",
    "          interact_manual(widgetFunction_intersection, n_obstacles=fixed(n_obstacles),\n",
    "            center1_1=center1_widget1, center2_1=center2_widget1, orientation_1=angle_widget1,\n",
    "            center1_2=center1_widget2, center2_2=center2_widget2, orientation_2=angle_widget2,\n",
    "            center1_3=fixed(0), center2_3=fixed(0), orientation_3=fixed(0),\n",
    "            center1_4=fixed(0), center2_4=fixed(0), orientation_4=fixed(0),\n",
    "            x_low=fixed(x_lim[0]), x_high=fixed(x_lim[1]), y_low=fixed(y_lim[0]), y_high=fixed(y_lim[1]));\n",
    "    elif n_obstacles==3:\n",
    "        interact_manual(widgetFunction_intersection, n_obstacles=fixed(n_obstacles),\n",
    "            center1_1=center1_widget1, center2_1=center2_widget1, orientation_1=angle_widget1,\n",
    "            center1_2=center1_widget2, center2_2=center2_widget2, orientation_2=angle_widget2,\n",
    "            center1_3=center1_widget3, center2_3=center2_widget3, orientation_3=angle_widget3,\n",
    "            center1_4=fixed(0), center2_4=fixed(0), orientation_4=fixed(0),\n",
    "            x_low=fixed(x_lim[0]), x_high=fixed(x_lim[1]), y_low=fixed(y_lim[0]), y_high=fixed(y_lim[1]));\n",
    "    elif n_obstacles==4:\n",
    "        interact_manual(widgetFunction_intersection, n_obstacles=fixed(n_obstacles),\n",
    "            center1_1=center1_widget1, center2_1=center2_widget1, orientation_1=angle_widget1,\n",
    "            center1_2=center1_widget2, center2_2=center2_widget2, orientation_2=angle_widget2,\n",
    "            center1_3=center1_widget3, center2_3=center2_widget3, orientation_3=angle_widget3,\n",
    "            center1_4=center1_widget4, center2_4=center2_widget4, orientation_4=angle_widget4,\n",
    "            x_low=fixed(x_lim[0]), x_high=fixed(x_lim[1]), y_low=fixed(y_lim[0]), y_high=fixed(y_lim[1]));\n",
    "        \n",
    "n_obs_widget = IntSlider(description='Number of obstacles', min=2, max=4, value=2)\n",
    "n_obs_widget = widgets.Dropdown(\n",
    "    options=[2,3,4],\n",
    "    value=2,\n",
    "    description='Obstacle Number:',\n",
    "    disabled=False,\n",
    ")\n",
    "\n",
    "print(\"Change parameters and press <<Run Interact>> to apply.\")\n",
    "interact(choose_obstacles, n_obstacles=n_obs_widget);\n",
    "                \n"
   ]
  },
  {
   "cell_type": "markdown",
   "metadata": {},
   "source": [
    "# Dynamic Obstacle Avoidance\n"
   ]
  },
  {
   "cell_type": "code",
   "execution_count": 5,
   "metadata": {
    "scrolled": false
   },
   "outputs": [
    {
     "name": "stdout",
     "output_type": "stream",
     "text": [
      "this is ipython\n",
      "done this\n",
      "ended that\n",
      "Returning animation object\n"
     ]
    },
    {
     "data": {
      "image/png": "[encoded data removed]",
      "text/plain": [
       "<Figure size 576x360 with 1 Axes>"
      ]
     },
     "metadata": {
      "needs_background": "light"
     },
     "output_type": "display_data"
    },
    {
     "data": {
      "application/vnd.jupyter.widget-view+json": {
       "model_id": "e80cf90458294821b3ec65b2d43578ac",
       "version_major": 2,
       "version_minor": 0
      },
      "text/plain": [
       "interactive(children=(Dropdown(description='Obstacle Numhber:', options=(0, 1), value=0), FloatSlider(value=0.…"
      ]
     },
     "metadata": {},
     "output_type": "display_data"
    },
    {
     "name": "stdout",
     "output_type": "stream",
     "text": [
      "NOTE - After executing this window, all graphics will appear in pop up windows. \n"
     ]
    }
   ],
   "source": [
    "#%matplotlib tk # ACTIVATE offline for faster execution\n",
    "\n",
    "#import matplotlib.pyplot\n",
    "#matplotlib.pyplot.switch_backend(\"TkAgg\")\n",
    "\n",
    "#%matplotlib notebook\n",
    "\n",
    "x_range, y_range = [-16, 16], [-2, 18]\n",
    "x_init = samplePointsAtBorder(number_of_points=10, x_range=x_range, y_range=y_range)\n",
    "\n",
    "x_init = np.zeros((2,1))\n",
    "x_init[:,0] = [8, 1]\n",
    "\n",
    "obs = []\n",
    "x0=[-3, 8]\n",
    "a=[2, 5]\n",
    "p=[1,1]\n",
    "th_r=0/180*pi\n",
    "vel = [0, 0]\n",
    "obs.append(Obstacle(a=a, p=p, x0=x0, th_r=th_r, sf=1))\n",
    "\n",
    "x0=[3, 4]\n",
    "a=[3, 4]\n",
    "p=[1,1]\n",
    "th_r=0/180*pi\n",
    "vel = [0, 0]\n",
    "obs.append(Obstacle(a=a, p=p, x0=x0, th_r=th_r, sf=1))\n",
    "\n",
    "\n",
    "# %matplotlib notebook\n",
    "ani = run_animation_ipython(x_init, obs=obs, x_range=x_range, y_range=y_range, \n",
    "              dt=0.05, N_simuMax=1000, convergenceMargin=0.3, sleepPeriod=0.001, \n",
    "              RK4_int=True, hide_ticks=False, return_animationObject=True)\n",
    "plt.ion()\n",
    "ani.show()\n",
    "\n",
    "\n",
    "velx_widget = FloatSlider(description='Vel x \\( \\dot  x_1\\)', min=-5.0, max=5.0, step=0.1, value=0)\n",
    "\n",
    "velx_widget = FloatSlider(description='Vel x \\( \\dot  x_1\\)', min=-5.0, max=5.0, step=0.1, value=0)\n",
    "vely_widget = FloatSlider(description='Vel y \\( \\dot  x_1\\)', min=-5.0, max=5.0, step=0.1, value=0)\n",
    "velAng_widget = FloatSlider(description='Vel Ang \\( \\omega\\)', min=-5.0, max=5.0, step=0.1, value=0)\n",
    "\n",
    "obs_number = IntSlider(description='Obstacle Number', min=0, max=len(obs)-1, value=0)\n",
    "\n",
    "obs_number = widgets.Dropdown(\n",
    "    options=[ii for ii in range(len(obs))],\n",
    "    value=0,\n",
    "    description='Obstacle Numhber:',\n",
    "    disabled=False,\n",
    ")\n",
    "\n",
    "interact_manual(ani.set_velocity, obs_number=obs_number, vel_x =velx_widget, vel_y=vely_widget, vel_rot=velAng_widget)\n",
    "\n",
    "print(\"NOTE - After executing this window, all graphics will appear in pop up windows. \")\n",
    "# To reverse this, reload the kernel/page.\n",
    "# Click on the figure to pause it\n",
    "# Change the dynamic paramters for each of the obstacles indiviudally"
   ]
  }
 ],
 "metadata": {
  "kernelspec": {
   "display_name": "Python 3",
   "language": "python",
   "name": "python3"
  },
  "language_info": {
   "codemirror_mode": {
    "name": "ipython",
    "version": 3
   },
   "file_extension": ".py",
   "mimetype": "text/x-python",
   "name": "python",
   "nbconvert_exporter": "python",
   "pygments_lexer": "ipython3",
   "version": "3.7.3"
  }
 },
 "nbformat": 4,
 "nbformat_minor": 2
}
