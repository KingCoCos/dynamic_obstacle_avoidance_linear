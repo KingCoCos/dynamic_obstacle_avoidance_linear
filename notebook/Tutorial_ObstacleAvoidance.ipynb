{
 "cells": [
  {
   "cell_type": "markdown",
   "metadata": {},
   "source": [
    "# Tutorial for Dynamic Obstacle Avoidance\n",
    "This tutorial is based on following publications: \n",
    "> Huber, Lukas, Aude Billard, and Jean-Jacques E. Slotine. \"Avoidance of Convex and Concave Obstacles with Convergence ensured through Contraction.\" IEEE Robotics and Automation Letters (2019).\n",
    "\n",
    "> Khansari-Zadeh, Seyed Mohammad, and Aude Billard. \"A dynamical system approach to realtime obstacle avoidance.\" Autonomous Robots 32.4 (2012): 433-454.\n",
    "\n",
    "The initial dynamical system $\\vec f(\\xi)$ is modulated to get the final dynamics $\\dot \\xi$:\n",
    "\n",
    "$$\\dot \\xi = M(\\xi) \\vec f(\\xi)$$ \n",
    "\n",
    "\n",
    "with Modulation Matrix $M(\\xi) = E(\\xi)D(\\xi )E(\\xi)^{−1}$"
   ]
  },
  {
   "cell_type": "markdown",
   "metadata": {},
   "source": [
    "### Instructions - Notebook\n",
    "\n",
    "This tutorial is based on jupyter notebook with python code at the backend. The source code can be found under ...\n",
    "\n",
    "This notebook contains a mix of text and code. In order to execute the code, click on the containing field and press CTRL + RETURN. "
   ]
  },
  {
   "cell_type": "code",
   "execution_count": 21,
   "metadata": {},
   "outputs": [],
   "source": [
    "# General classes\n",
    "import numpy as np\n",
    "from numpy import pi\n",
    "import copy\n",
    "\n",
    "from ipywidgets import interact, interactive, fixed, interact_manual\n",
    "from ipywidgets import FloatSlider, IntSlider\n",
    "import ipywidgets as widgetsb\n",
    "\n",
    "# Unocmment in case of error\n",
    "import sys\n",
    "sys.path.append('/home/jovyan/src/')\n",
    "sys.path.append('/home/lukas/Code/ObstacleAvoidance/dynamic_obstacle_avoidance_python_linear/src/')\n",
    "\n",
    "from dynamic_obstacle_avoidance.dynamical_system import *\n",
    "from dynamic_obstacle_avoidance.obstacle_avoidance.obstacle import Obstacle\n",
    "from dynamic_obstacle_avoidance.visualization.vector_field_visualization import Simulation_vectorFields\n",
    "from dynamic_obstacle_avoidance.visualization.animated_simulation import *\n",
    "from dynamic_obstacle_avoidance.visualization.widget_function_vectorfield import *"
   ]
  },
  {
   "cell_type": "markdown",
   "metadata": {},
   "source": [
    "## Dynamical Systems\n"
   ]
  },
  {
   "cell_type": "markdown",
   "metadata": {},
   "source": [
    "## Obstacle Description\n",
    "The obstacle avoidance algorithm is able to avoida all convex and certain concave obstacles. \n",
    "Run the script bellow to change the properties of an ellipse and see how the initially linear DS."
   ]
  },
  {
   "cell_type": "code",
   "execution_count": 22,
   "metadata": {
    "scrolled": false
   },
   "outputs": [
    {
     "data": {
      "application/vnd.jupyter.widget-view+json": {
       "model_id": "152ba3d2140e45d889ccfd16caf14e81",
       "version_major": 2,
       "version_minor": 0
      },
      "text/plain": [
       "interactive(children=(FloatSlider(value=6.0, description='Position \\\\( x_1\\\\)', max=16.0, min=-16.0), FloatSli…"
      ]
     },
     "metadata": {},
     "output_type": "display_data"
    }
   ],
   "source": [
    "#%matplotlib gtk\n",
    "x_lim = [-16, 16]\n",
    "y_lim = [-2, 18]\n",
    "\n",
    "x1_widget = FloatSlider(description='Position \\( x_1\\)', min=x_lim[0], max=x_lim[1], step=0.1, value=6)\n",
    "x2_widget = FloatSlider(description='Position \\( x_2\\)', min=y_lim[0], max=y_lim[1], step=0.1, value=8)\n",
    "\n",
    "axis_widget1 = FloatSlider(description='Axis length 1', min=0.1, max=8, step=0.1, value=5)\n",
    "axis_widget2 = FloatSlider(description='Axis length 2', min=0.1, max=8, step=0.1, value=3)\n",
    "\n",
    "curvature_widget1 = IntSlider(description='Curvature 1', min=1, max=5, value=3)\n",
    "curvature_widget2 = IntSlider(description='Curvature 2', min=1, max=5, value=1)\n",
    "\n",
    "margin_widget = FloatSlider(description='Safety Margin', min=1, max=3, step=0.1, value=1.2)\n",
    "\n",
    "angle_widget = FloatSlider(description='Orientation', min=-180, max=180, step=1, value=30)\n",
    "\n",
    "interact_manual(widget_ellipses_vectorfield, x1=x1_widget, x2=x2_widget,\n",
    "                th_r=angle_widget,\n",
    "                a1=axis_widget1, a2=axis_widget2,\n",
    "                p1=curvature_widget1, p2=curvature_widget2,\n",
    "                sf=margin_widget,\n",
    "                draw_vectorField=True,\n",
    "                x_low=fixed(x_lim[0]), x_high=fixed(x_lim[1]), \n",
    "                y_low=fixed(y_lim[0]), y_high=fixed(y_lim[1]));"
   ]
  },
  {
   "cell_type": "markdown",
   "metadata": {},
   "source": [
    "## Reference Point\n",
    "The basis matrix $E(\\xi)=\\left[ {\\vec r }(\\xi) \\;\\; \\vec e_1(\\xi) \\;\\; .. \\;\\; \\vec{e}_{d-1}(\\xi) \\right]$ decomposes the initial dynamical system into tangent directions $\\vec e_i(\\xi) \\;\\; i=1..d-1$ and reference direction $\\vec r(\\xi)$.\n",
    "\n",
    "The diagonal eigenvalue matrix $ D(\\xi) =\n",
    "  \\textbf{diag} \\left( \\lambda_r(\\xi) , \\lambda_e(\\xi) , .. , \\lambda_{e}( \\xi) \\right) $ stretches the dynamical system along the tangent direction, and compresses along the reference direction.\n",
    "  \n",
    "This results in provable avoidance with convergence towards the attractor.\n",
    "\n",
    "*** Change the parameters of the reference point (direction & excentricity) and see how the modulated DS behaves. What can you observe? How is this dependent on the direction and position of the obstacle? ***"
   ]
  },
  {
   "cell_type": "code",
   "execution_count": 30,
   "metadata": {},
   "outputs": [
    {
     "data": {
      "application/vnd.jupyter.widget-view+json": {
       "model_id": "1dfad19685c14de0af42d4b30bb88a23",
       "version_major": 2,
       "version_minor": 0
      },
      "text/plain": [
       "interactive(children=(FloatSlider(value=6.0, description='Position \\\\( x_1\\\\)', max=16.0, min=-16.0), FloatSli…"
      ]
     },
     "metadata": {},
     "output_type": "display_data"
    }
   ],
   "source": [
    "x_lim, y_lim = [-16, 16], [-2, 18]\n",
    "\n",
    "# Interactive Widgets\n",
    "x1_widget = FloatSlider(description='Position \\( x_1\\)', min=x_lim[0], max=x_lim[1], step=0.1, value=6)\n",
    "x2_widget = FloatSlider(description='Position \\( x_2\\)', min=y_lim[0], max=y_lim[1], step=0.1, value=8)\n",
    "angle_widget = FloatSlider(description='Orientation', min=-180, max=180, step=1, value=80)\n",
    "referencePoint_direction = FloatSlider(description='Direction', min=-180, max=180, step=1, value=0)\n",
    "referencePoint_excentricity = FloatSlider(description='Excentricity', min=0, max=0.999, step=0.01, value=0.5)\n",
    "\n",
    "# Main function\n",
    "interact_manual(widgetFunction_referencePoint, x1=x1_widget, x2=x2_widget,\n",
    "                th_r=angle_widget,\n",
    "                refPoint_dir=referencePoint_direction, refPoint_rat=referencePoint_excentricity,\n",
    "               x_low=fixed(x_lim[0]), x_high=fixed(x_lim[1]), \n",
    "                y_low=fixed(y_lim[0]), y_high=fixed(y_lim[1]));\n",
    "\n",
    "# Change parameters and press <<Run Interact>> to apply."
   ]
  },
  {
   "cell_type": "markdown",
   "metadata": {
    "scrolled": true
   },
   "source": [
    "\n",
    "## Intersecting Obstacles\n",
    "If you might have observed in the past interaction, the reference point decides the line where the DS is split and moves around the obstacle. This can now be extended to interscting obstacles, if they share a commond attractor they can \n",
    "\n",
    "1. Can you find one commond reference point of the obstacles, without having their body intersect (but only the safety maring)?\n",
    "2. For 2, 3 & 4 obstacles?\n",
    "3. What at happens if 3 or 4 obstacles build a chain, but do not have one comomnd reference point? Can you observe the local minma? What could be proposed to solve this problem?\n",
    "4. Are there solution with several reference point with 4 obstacles with full convergence?"
   ]
  },
  {
   "cell_type": "code",
   "execution_count": 5,
   "metadata": {
    "scrolled": false
   },
   "outputs": [
    {
     "data": {
      "application/vnd.jupyter.widget-view+json": {
       "model_id": "eb1e78e6b9994bf7a588fd016ef05a9d",
       "version_major": 2,
       "version_minor": 0
      },
      "text/plain": [
       "interactive(children=(IntSlider(value=2, description='Number of obstacles', max=4, min=2), Output()), _dom_cla…"
      ]
     },
     "metadata": {},
     "output_type": "display_data"
    }
   ],
   "source": [
    "%matplotlib inline\n",
    "import matplotlib.pyplot as plt\n",
    "\n",
    "x_lim, y_lim = [-16, 16], [-2, 18]\n",
    "\n",
    "# Interactive Widgets\n",
    "center1_widget1 = FloatSlider(description='Position \\( x_1\\)', min=x_lim[0], max=x_lim[1], step=0.1, value=-14)\n",
    "center2_widget1 = FloatSlider(description='Position \\( x_2\\)', min=y_lim[0], max=y_lim[1], step=0.1, value=4)\n",
    "angle_widget1 = FloatSlider(description='Orientation', min=-180, max=180, step=1, value=45)\n",
    "\n",
    "center1_widget2 = FloatSlider(description='Position \\( x_1\\)', min=x_lim[0], max=x_lim[1], step=0.1, value=-3)\n",
    "center2_widget2 = FloatSlider(description='Position \\( x_2\\)', min=y_lim[0], max=y_lim[1], step=0.1, value=10)\n",
    "angle_widget2 = FloatSlider(description='Orientation', min=-180, max=180, step=1, value=0)\n",
    "\n",
    "center1_widget3 = FloatSlider(description='Position \\( x_1\\)', min=x_lim[0], max=x_lim[1], step=0.1, value=6)\n",
    "center2_widget3 = FloatSlider(description='Position \\( x_2\\)', min=y_lim[0], max=y_lim[1], step=0.1, value=4)\n",
    "angle_widget3 = FloatSlider(description='Orientation', min=-180, max=180, step=1, value=-80)\n",
    "\n",
    "center1_widget4 = FloatSlider(description='Position \\( x_1\\)', min=x_lim[0], max=x_lim[1], step=0.1, value=10)\n",
    "center2_widget4 = FloatSlider(description='Position \\( x_2\\)', min=y_lim[0], max=y_lim[1], step=0.1, value=14)\n",
    "angle_widget4 = FloatSlider(description='Orientation', min=-180, max=180, step=1, value=-110)\n",
    "\n",
    "\n",
    "def choose_obstacles(n_obstacles):\n",
    "    # Main function\n",
    "    if n_obstacles ==2:\n",
    "          interact_manual(widgetFunction_intersection, n_obstacles=fixed(n_obstacles),\n",
    "            center1_1=center1_widget1, center2_1=center2_widget1, orientation_1=angle_widget1,\n",
    "            center1_2=center1_widget2, center2_2=center2_widget2, orientation_2=angle_widget2,\n",
    "            center1_3=fixed(0), center2_3=fixed(0), orientation_3=fixed(0),\n",
    "            center1_4=fixed(0), center2_4=fixed(0), orientation_4=fixed(0),\n",
    "            x_low=fixed(x_lim[0]), x_high=fixed(x_lim[1]), y_low=fixed(y_lim[0]), y_high=fixed(y_lim[1]));\n",
    "    elif n_obstacles==3:\n",
    "        interact_manual(widgetFunction_intersection, n_obstacles=fixed(n_obstacles),\n",
    "            center1_1=center1_widget1, center2_1=center2_widget1, orientation_1=angle_widget1,\n",
    "            center1_2=center1_widget2, center2_2=center2_widget2, orientation_2=angle_widget2,\n",
    "            center1_3=center1_widget3, center2_3=center2_widget3, orientation_3=angle_widget3,\n",
    "            center1_4=fixed(0), center2_4=fixed(0), orientation_4=fixed(0),\n",
    "            x_low=fixed(x_lim[0]), x_high=fixed(x_lim[1]), y_low=fixed(y_lim[0]), y_high=fixed(y_lim[1]));\n",
    "    elif n_obstacles==4:\n",
    "        interact_manual(widgetFunction_intersection, n_obstacles=fixed(n_obstacles),\n",
    "            center1_1=center1_widget1, center2_1=center2_widget1, orientation_1=angle_widget1,\n",
    "            center1_2=center1_widget2, center2_2=center2_widget2, orientation_2=angle_widget2,\n",
    "            center1_3=center1_widget3, center2_3=center2_widget3, orientation_3=angle_widget3,\n",
    "            center1_4=center1_widget4, center2_4=center2_widget4, orientation_4=angle_widget4,\n",
    "            x_low=fixed(x_lim[0]), x_high=fixed(x_lim[1]), y_low=fixed(y_lim[0]), y_high=fixed(y_lim[1]));\n",
    "        \n",
    "n_obs_widget = IntSlider(description='Number of obstacles', min=2, max=4, value=2)\n",
    "interact_manual(choose_obstacles, n_obstacles=n_obs_widget);\n",
    "                \n",
    "# Change parameters and press <<Run Interact>> to apply."
   ]
  },
  {
   "cell_type": "markdown",
   "metadata": {},
   "source": [
    "# Dynamic Systems"
   ]
  },
  {
   "cell_type": "code",
   "execution_count": 42,
   "metadata": {
    "scrolled": false
   },
   "outputs": [
    {
     "name": "stdout",
     "output_type": "stream",
     "text": [
      "Returning animation object\n"
     ]
    },
    {
     "data": {
      "application/vnd.jupyter.widget-view+json": {
       "model_id": "b64baa10d82d46719dccc2a33acc601e",
       "version_major": 2,
       "version_minor": 0
      },
      "text/plain": [
       "interactive(children=(IntSlider(value=0, description='Obstacle Number', max=1), FloatSlider(value=0.0, descrip…"
      ]
     },
     "metadata": {},
     "output_type": "display_data"
    },
    {
     "data": {
      "text/plain": [
       "<function ipywidgets.widgets.interaction._InteractFactory.__call__.<locals>.<lambda>(*args, **kwargs)>"
      ]
     },
     "execution_count": 42,
     "metadata": {},
     "output_type": "execute_result"
    }
   ],
   "source": [
    "x_range, y_range = [-16, 16], [-2, 18]\n",
    "x_init = samplePointsAtBorder(number_of_points=10, x_range=x_range, y_range=y_range)\n",
    "\n",
    "x_init = np.zeros((2,1))\n",
    "x_init[:,0] = [8, 1]\n",
    "\n",
    "obs = []\n",
    "x0=[-3, 8]\n",
    "a=[2, 5]\n",
    "p=[1,1]\n",
    "th_r=0/180*pi\n",
    "vel = [0, 0]\n",
    "obs.append(Obstacle(a=a, p=p, x0=x0, th_r=th_r, sf=1))\n",
    "\n",
    "x0=[3, 4]\n",
    "a=[3, 4]\n",
    "p=[1,1]\n",
    "th_r=0/180*pi\n",
    "vel = [0, 0]\n",
    "obs.append(Obstacle(a=a, p=p, x0=x0, th_r=th_r, sf=1))\n",
    "\n",
    "\n",
    "# %matplotlib notebook\n",
    "ani = run_animation(x_init, obs=obs, x_range=x_range, y_range=y_range, \n",
    "              dt=0.005, N_simuMax=1000, convergenceMargin=0.3, sleepPeriod=0.001, \n",
    "              RK4_int=True, hide_ticks=False, return_animationObject=True)\n",
    "plt.ion()\n",
    "ani.show()\n",
    "\n",
    "\n",
    "velx_widget = FloatSlider(description='Vel x \\( \\dot  x_1\\)', min=-5.0, max=5.0, step=0.1, value=0)\n",
    "\n",
    "velx_widget = FloatSlider(description='Vel x \\( \\dot  x_1\\)', min=-5.0, max=5.0, step=0.1, value=0)\n",
    "vely_widget = FloatSlider(description='Vel y \\( \\dot  x_1\\)', min=-5.0, max=5.0, step=0.1, value=0)\n",
    "velAng_widget = FloatSlider(description='Vel Ang \\( \\omega\\)', min=-5.0, max=5.0, step=0.1, value=0)\n",
    "\n",
    "obs_number = IntSlider(description='Obstacle Number', min=0, max=len(obs)-1, value=0)\n",
    "\n",
    "interact_manual(ani.set_velocity, obs_number=obs_number, vel_x =velx_widget, vel_y=vely_widget, vel_rot=velAng_widget)\n",
    "\n",
    "# Click on the figure to pause it\n",
    "# Change the dynamic paramters for each of the obstacles indiviudally"
   ]
  }
 ],
 "metadata": {
  "kernelspec": {
   "display_name": "Python 3",
   "language": "python",
   "name": "python3"
  },
  "language_info": {
   "codemirror_mode": {
    "name": "ipython",
    "version": 3
   },
   "file_extension": ".py",
   "mimetype": "text/x-python",
   "name": "python",
   "nbconvert_exporter": "python",
   "pygments_lexer": "ipython3",
   "version": "3.7.3"
  }
 },
 "nbformat": 4,
 "nbformat_minor": 2
}
