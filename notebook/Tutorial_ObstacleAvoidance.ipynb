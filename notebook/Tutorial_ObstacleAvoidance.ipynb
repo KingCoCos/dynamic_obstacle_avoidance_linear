{
 "cells": [
  {
   "cell_type": "markdown",
   "metadata": {},
   "source": [
    "# Tutorial for Dynamic Obstacle Avoidance\n",
    "This tutorial is based on following publications: \n",
    "> Huber, Lukas, Aude Billard, and Jean-Jacques E. Slotine. \"Avoidance of Convex and Concave Obstacles with Convergence ensured through Contraction.\" IEEE Robotics and Automation Letters (2019). <br>\n",
    "> Khansari-Zadeh, Seyed Mohammad, and Aude Billard. \"A dynamical system approach to realtime obstacle avoidance.\" Autonomous Robots 32.4 (2012): 433-454.\n",
    "\n",
    "The initial dynamical system $\\vec f(\\xi)$ is modulated to get the final dynamics $\\dot \\xi$:\n",
    "\n",
    "$$ \\dot{\\xi} = M(\\xi) \\vec f(\\xi) $$\n",
    "\n",
    "with modulation matrix $M(\\xi) = E(\\xi)D(\\xi)E(\\xi)^{−1}$ composed of basis matrix $E(\\xi)$ and the diagonal eigenvalue matrix $D(\\xi )$. "
   ]
  },
  {
   "cell_type": "markdown",
   "metadata": {},
   "source": [
    "### Instructions - Notebook\n",
    "\n",
    "This tutorial is based on jupyter notebook with python code at the backend. The source code can be found under \n",
    "https://github.com/hubernikus/dynamic_obstacle_avoidance_python\n",
    "\n",
    "The notebook can be executed online with the link:\n",
    "https://mybinder.org/v2/gh/hubernikus/dynamic_obstacle_avoidance_python/master\n",
    "\n",
    "This notebook contains a mix of text and code. In order to execute the code, click on the containing field and press CTRL + RETURN. "
   ]
  },
  {
   "cell_type": "code",
   "execution_count": null,
   "metadata": {},
   "outputs": [],
   "source": [
    "#import warnings\n",
    "#warnings.filterwarnings('ignore')\n",
    "\n",
    "import sys, os\n",
    "sys.path.append(os.path.join(os.path.dirname(sys.path[0]),'src'))\n",
    "\n",
    "from dynamic_obstacle_avoidance.visualization.widget_function_vectorfield import *"
   ]
  },
  {
   "cell_type": "markdown",
   "metadata": {},
   "source": [
    "## Reference Point\n",
    "The basis matrix $E(\\xi)=\\left[ {\\vec r }(\\xi) \\;\\; \\vec e_1(\\xi) \\;\\; .. \\;\\; \\vec{e}_{d-1}(\\xi) \\right]$ decomposes the initial dynamical system into tangent directions $\\vec e_i(\\xi) \\;\\; i=1..d-1$ and reference direction $\\vec r( \\xi)$.\n",
    "\n",
    " The diagonal eigenvalue matrix $ D(\\xi) =\n",
    " \\textbf{diag} \\left( \\lambda_r(\\xi) , \\lambda_e(\\xi) , .. , \\lambda_{e}( \\xi) \\right) $  stretches the dynamical system along the tangent direction, and compresses along the reference direction.\n",
    "This results in provable avoidance with convergence towards the attractor in environments with star-shaped and convex obstacles.\n",
    "\n",
    "### Exercise 1\n",
    "By running the script bellow you can observe an obstacle with center (black dot) and reference point (black cross). The visualization can be changed \n",
    "1. Change the center paramters $\\xi_1$ and $\\xi_2$ of the obstacle to modify the streamlines: <br>\n",
    "1.1 Find a position of the obstacle where all streamlines avoid the obstacle above. <br>\n",
    "1.2 Find a position of the obstacle where the obstacle splits the streamliens (two above, two bellow). <br>\n",
    "1.3 What influence does the rotation $\\Theta$ have on the behavior? <br>\n",
    "\n",
    "2. Modify the center point of the obstacle (Direction and Exentricity): <br>\n",
    "2.1 Find a pose of the obstacle; where by you only modifying the reference point the trajectoies avoid the obstacle avoidance, first all of them above and then all of them bellow.\n",
    "2.2 What influence does the rotation $\\Theta$ have on the behavior? <br>\n"
   ]
  },
  {
   "cell_type": "code",
   "execution_count": null,
   "metadata": {},
   "outputs": [],
   "source": [
    "\n",
    "exercise_referencePoint()\n"
   ]
  },
  {
   "cell_type": "markdown",
   "metadata": {
    "scrolled": true
   },
   "source": [
    "\n",
    "## Intersecting Obstacles\n",
    "As could be observed in the previous section, the reference point determines in what direction the trajectories avoid the obstacles. This can now be used as an advantage for us when several obstacles intersect and form a concave star-shape. In such a case we can plase the reference point at the center of the intersection. This allows \n",
    "\n",
    "\n",
    "If you might have observed in the past interaction, the reference point decides the line where the DS is split and moves around the obstacle. This can now be extended to interscting obstacles, if they share a commond attractor they can \n",
    "\n",
    "### Exercise 2\n",
    "The script bellow automatically finds a commond section for two obstacles. \n",
    "1. Choose 2 obstacles. Can you find one commond reference point for two obstacles, without having their body intersect (but only the safety maring)? Observe the vectorfields. <br>\n",
    "2. Choose 4 obstacles. Can you make two pairs of two obstacle? Can you find a configuration with one common reference point? <br>\n",
    "3. Choose 3 obstacles. Make a chain of obstacle (two different reference points). How does the vector field behave? <br>"
   ]
  },
  {
   "cell_type": "code",
   "execution_count": null,
   "metadata": {
    "scrolled": false
   },
   "outputs": [],
   "source": [
    "\n",
    "exercise_intersectingObstacles()\n"
   ]
  },
  {
   "cell_type": "markdown",
   "metadata": {},
   "source": [
    "## Dynamic Obstacle Avoidance\n",
    "While the obstacle avoidance can be used for path planning in environments where everything can be reduced to star-shapes and inersecting obstacle. It has further the advantage of being fast and reactive evaluation. This allows agents to evaluate the algorithm on board in dynamically changing environements.\n",
    "\n",
    "Bellow is a dynamic simulation where the attractor changes as soon as it is reached. Furthermore, you can give the obstacle a desired linear and angular velocity.\n",
    "\n",
    "Comment: The present server interface allows only slow update rate, but if you run the algorithm offline you will get a much smoother simulation.\n",
    "\n",
    "\n",
    "\n",
    "### Exercise 3\n",
    "By clicking on the animation you can toggle pause and play.\n",
    "1. Move obstacle 2 with linear velocity towards the attractor. What happens if it reaches it before the agent?<br>\n",
    "2. Rotate obstacle 1. How does the agent behave if it is close to the surface? <br>\n",
    "3. Intersect the obstacle such that the agent is moving towards the concave region. Does it get stuck? <br>\n"
   ]
  },
  {
   "cell_type": "code",
   "execution_count": null,
   "metadata": {
    "scrolled": false
   },
   "outputs": [],
   "source": [
    "\n",
    "print(\"Interactive graphics are actived to execute the animation. Refresh the kernel before you running the other \")\n",
    "print(\"scripts again. \\n\")\n",
    "%matplotlib notebook\n",
    "#%matplotlib tk # ACTIVATE offline for faster execution\n",
    "\n",
    "exercise_dynamicModulation()\n"
   ]
  }
 ],
 "metadata": {
  "kernelspec": {
   "display_name": "Python 3",
   "language": "python",
   "name": "python3"
  },
  "language_info": {
   "codemirror_mode": {
    "name": "ipython",
    "version": 3
   },
   "file_extension": ".py",
   "mimetype": "text/x-python",
   "name": "python",
   "nbconvert_exporter": "python",
   "pygments_lexer": "ipython3",
   "version": "3.7.3"
  }
 },
 "nbformat": 4,
 "nbformat_minor": 2
}
